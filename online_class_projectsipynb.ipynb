{
  "nbformat": 4,
  "nbformat_minor": 0,
  "metadata": {
    "colab": {
      "provenance": [],
      "authorship_tag": "ABX9TyOPVNsvGn2hdRkQUaHmM9VX",
      "include_colab_link": true
    },
    "kernelspec": {
      "name": "python3",
      "display_name": "Python 3"
    },
    "language_info": {
      "name": "python"
    }
  },
  "cells": [
    {
      "cell_type": "markdown",
      "metadata": {
        "id": "view-in-github",
        "colab_type": "text"
      },
      "source": [
        "<a href=\"https://colab.research.google.com/github/hamzabhai11667788/Assignmnet-04-Hamza-Rehmani/blob/main/online_class_projectsipynb.ipynb\" target=\"_parent\"><img src=\"https://colab.research.google.com/assets/colab-badge.svg\" alt=\"Open In Colab\"/></a>"
      ]
    },
    {
      "cell_type": "code",
      "execution_count": 1,
      "metadata": {
        "colab": {
          "base_uri": "https://localhost:8080/"
        },
        "id": "5oN9wSw-hX32",
        "outputId": "15182ef9-3a5e-491a-d602-0f878128f003"
      },
      "outputs": [
        {
          "output_type": "stream",
          "name": "stdout",
          "text": [
            "00_joke_bot\n",
            "What do you want? Joke\n",
            "Here is a joke for you! Panaversity GPT - Sophia is heading out to the grocery store. A programmer tells her: get a liter of milk, and if they have eggs, get 12. Sophia returns with 13 liters of milk. The programmer asks why and Sophia replies: 'because they had eggs'\n"
          ]
        }
      ],
      "source": [
        "print(\"00_joke_bot\")\n",
        "PROMPT = \"What do you want? \"\n",
        "JOKE = \"Here is a joke for you! Panaversity GPT - Sophia is heading out to the grocery store. A programmer tells her: get a liter of milk, and if they have eggs, get 12. Sophia returns with 13 liters of milk. The programmer asks why and Sophia replies: 'because they had eggs'\"\n",
        "SORRY = \"Sorry I only tell jokes\"\n",
        "\n",
        "def main():\n",
        "    user_input = input(PROMPT)\n",
        "    if user_input == \"Joke\":\n",
        "        print(JOKE)\n",
        "    else:\n",
        "        print(SORRY)\n",
        "\n",
        "if __name__ == '__main__':\n",
        "    main()"
      ]
    },
    {
      "cell_type": "code",
      "source": [
        "print(\"01_double_it\")\n",
        "def main():\n",
        "    # Ask user to enter a number\n",
        "    curr_value = int(input(\"Enter a number: \"))\n",
        "\n",
        "    # Double the number until it's 100 or greater\n",
        "    while curr_value < 100:\n",
        "        curr_value = curr_value * 2\n",
        "        print(curr_value, end=' ')\n",
        "\n",
        "if __name__ == '__main__':\n",
        "    main()"
      ],
      "metadata": {
        "colab": {
          "base_uri": "https://localhost:8080/"
        },
        "id": "KXZ1K_qoiMR5",
        "outputId": "53a0c440-be6b-41bd-d964-b87434653b8d"
      },
      "execution_count": 2,
      "outputs": [
        {
          "output_type": "stream",
          "name": "stdout",
          "text": [
            "01_double_it\n",
            "Enter a number: 2\n",
            "4 8 16 32 64 128 "
          ]
        }
      ]
    },
    {
      "cell_type": "code",
      "source": [
        "print(\"02_liftoff\")\n",
        "def main():\n",
        "    # Countdown from 10 to 1 using a for loop\n",
        "    for i in range(10, 0, -1):\n",
        "        print(i, end=' ')\n",
        "\n",
        "    # Print \"Liftoff!\" after the countdown\n",
        "    print(\"Liftoff!\")\n",
        "\n",
        "if __name__ == '__main__':\n",
        "    main()"
      ],
      "metadata": {
        "colab": {
          "base_uri": "https://localhost:8080/"
        },
        "id": "UVrSPD38ieSF",
        "outputId": "986f93d0-d52e-4b56-e4cf-3dd1216d9593"
      },
      "execution_count": 3,
      "outputs": [
        {
          "output_type": "stream",
          "name": "stdout",
          "text": [
            "02_liftoff\n",
            "10 9 8 7 6 5 4 3 2 1 Liftoff!\n"
          ]
        }
      ]
    },
    {
      "cell_type": "code",
      "source": [
        "print(\"03_guess_my_number\")\n",
        "import random\n",
        "\n",
        "def main():\n",
        "    # Generate random number between 0 and 99\n",
        "    secret_number = random.randint(0, 99)\n",
        "\n",
        "    print(\"I am thinking of a number between 0 and 99...\")\n",
        "\n",
        "    # Get first guess\n",
        "    guess = int(input(\"Enter a guess: \"))\n",
        "\n",
        "    # Keep asking for guesses until correct\n",
        "    while guess != secret_number:\n",
        "        if guess < secret_number:\n",
        "            print(\"Your guess is too low\")\n",
        "        else:\n",
        "            print(\"Your guess is too high\")\n",
        "\n",
        "        # Get next guess\n",
        "        guess = int(input(\"Enter a new guess: \"))\n",
        "\n",
        "    # When loop exits, guess was correct\n",
        "    print(f\"Congrats! The number was: {secret_number}\")\n",
        "\n",
        "if __name__ == '__main__':\n",
        "    main()"
      ],
      "metadata": {
        "id": "VcUTtc24jYLQ"
      },
      "execution_count": null,
      "outputs": []
    },
    {
      "cell_type": "code",
      "source": [
        "print(\"04_random_numbers\")\n",
        "import random\n",
        "\n",
        "N_NUMBERS: int = 10\n",
        "MIN_VALUE: int = 1\n",
        "MAX_VALUE: int = 100\n",
        "\n",
        "def main():\n",
        "    # Generate and print 10 random numbers\n",
        "    for _ in range(N_NUMBERS):\n",
        "        print(random.randint(MIN_VALUE, MAX_VALUE), end=' ')\n",
        "    print()  # Add a newline at the end\n",
        "\n",
        "if __name__ == '__main__':\n",
        "    main()"
      ],
      "metadata": {
        "colab": {
          "base_uri": "https://localhost:8080/"
        },
        "id": "2nKrdEIejZ0d",
        "outputId": "e2a409b4-e1e7-4737-aded-d90857566fd5"
      },
      "execution_count": 5,
      "outputs": [
        {
          "output_type": "stream",
          "name": "stdout",
          "text": [
            "04_random_numbers\n",
            "19 57 68 28 19 72 56 89 81 81 \n"
          ]
        }
      ]
    }
  ]
}
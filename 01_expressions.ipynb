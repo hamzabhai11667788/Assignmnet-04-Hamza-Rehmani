{
  "nbformat": 4,
  "nbformat_minor": 0,
  "metadata": {
    "colab": {
      "provenance": [],
      "authorship_tag": "ABX9TyNTiSWxt8dDC6Bum1b8DnZV",
      "include_colab_link": true
    },
    "kernelspec": {
      "name": "python3",
      "display_name": "Python 3"
    },
    "language_info": {
      "name": "python"
    }
  },
  "cells": [
    {
      "cell_type": "markdown",
      "metadata": {
        "id": "view-in-github",
        "colab_type": "text"
      },
      "source": [
        "<a href=\"https://colab.research.google.com/github/hamzabhai11667788/Assignmnet-04-Hamza-Rehmani/blob/main/01_expressions.ipynb\" target=\"_parent\"><img src=\"https://colab.research.google.com/assets/colab-badge.svg\" alt=\"Open In Colab\"/></a>"
      ]
    },
    {
      "cell_type": "code",
      "execution_count": 4,
      "metadata": {
        "colab": {
          "base_uri": "https://localhost:8080/"
        },
        "id": "wggep7yl2HgS",
        "outputId": "20e62cf5-0014-41ae-9a32-4e8246525981"
      },
      "outputs": [
        {
          "output_type": "stream",
          "name": "stdout",
          "text": [
            "01_dicesimulator\n",
            "die1 in main() start as:10\n",
            "Total of two die: 5\n",
            "Total of two die: 8\n",
            "Total of two die: 5\n",
            "die1 in main() is:10\n"
          ]
        }
      ],
      "source": [
        "import random\n",
        "print(\"01_dicesimulator\")\n",
        "\n",
        "def roll_dice():\n",
        "    die1:int = random.randint(1,6)\n",
        "    die2:int = random.randint(1,6)\n",
        "    total:int = die1 + die2\n",
        "    print(f\"Total of two die: {total}\")\n",
        "\n",
        "def main():\n",
        "    die1:int = 10\n",
        "    print(\"die1 in main() start as:\" + str(die1))\n",
        "    roll_dice()\n",
        "    roll_dice()\n",
        "    roll_dice()\n",
        "    print(\"die1 in main() is:\" + str(die1))\n",
        "\n",
        "if __name__ == \"__main__\":\n",
        "    main()\n",
        "\n",
        ""
      ]
    },
    {
      "cell_type": "code",
      "source": [
        "print(\"02_e=mc2\")\n",
        "\n",
        "def energy():\n",
        "    c = 299792458\n",
        "    m = float(input(\"Enter mass (in kg): \"))\n",
        "    e = m * (c ** 2)\n",
        "    print(\"e = m*c^2\")\n",
        "    print(f\"Mass = {m} kg\")\n",
        "    print(f\"C = {c} m/s\")\n",
        "    print(f\"e = {e:.2f} joules\")\n",
        "\n",
        "if __name__ == \"__main__\":\n",
        "    energy()"
      ],
      "metadata": {
        "colab": {
          "base_uri": "https://localhost:8080/"
        },
        "id": "ppJBm9xs4Fel",
        "outputId": "8ce14ee6-5235-495c-8e3a-1f60a72d5c7a"
      },
      "execution_count": 9,
      "outputs": [
        {
          "output_type": "stream",
          "name": "stdout",
          "text": [
            "02_e=mc2\n",
            "Enter mass (in kg): 130\n",
            "e = m*c^2\n",
            "Mass = 130.0 kg\n",
            "C = 299792458 m/s\n",
            "e = 11683817323578628096.00 joules\n"
          ]
        }
      ]
    },
    {
      "cell_type": "code",
      "source": [
        "print(\"03_feet_to_inches\")\n",
        "\n",
        "inch: int = 12\n",
        "def foot():\n",
        "  feet:int = int(input(\"Enter feet and i will convert into inches.\"))\n",
        "  print(f\"There are {inch * feet} inches in  {feet} feet.\")\n",
        "\n",
        "if __name__ == \"__main__\":\n",
        "  foot()\n"
      ],
      "metadata": {
        "colab": {
          "base_uri": "https://localhost:8080/"
        },
        "id": "0G49yatF8FVI",
        "outputId": "1880b8ba-4907-4fdb-8ce2-0f5bc8b1889c"
      },
      "execution_count": 10,
      "outputs": [
        {
          "output_type": "stream",
          "name": "stdout",
          "text": [
            "03_feet_to_inches\n",
            "Enter feet and i will convert into inches.45\n",
            "There are 540 inches in  45 feet.\n"
          ]
        }
      ]
    },
    {
      "cell_type": "code",
      "source": [
        "\n",
        "import math  # You need to import math to use math.sqrt()\n",
        "\n",
        "print(\"04_pythagorean_theorem\")\n",
        "\n",
        "def triangle():\n",
        "    ab = float(input(\"Enter the length of side AB: \"))\n",
        "    ac = float(input(\"Enter the length of side AC: \"))  # Changed variable name from 'at' to 'ac'\n",
        "    bc = math.sqrt(ab**2 + ac**2)  # Corrected the formula\n",
        "    print(f\"The length of BC (the hypotenuse) is: {bc:.2f}\")  # Added formatting for 2 decimal places\n",
        "\n",
        "if __name__ == \"__main__\":\n",
        "    triangle()"
      ],
      "metadata": {
        "colab": {
          "base_uri": "https://localhost:8080/"
        },
        "id": "CHnipSTY9EkY",
        "outputId": "17fe618b-9481-4bb6-f9b8-3d08b9e35289"
      },
      "execution_count": 12,
      "outputs": [
        {
          "output_type": "stream",
          "name": "stdout",
          "text": [
            "04_pythagorean_theorem\n",
            "Enter the length of side AB: 4\n",
            "Enter the length of side AC: 6\n",
            "The length of BC (the hypotenuse) is: 7.21\n"
          ]
        }
      ]
    },
    {
      "cell_type": "code",
      "source": [
        "print(\"05_remainder_division\")\n",
        "\n",
        "def remainder():\n",
        "    num1 = int(input(\"Enter an integer to be divided: \"))  # Fixed input syntax\n",
        "    num2 = int(input(\"Enter an integer to divide by: \"))   # Fixed input syntax\n",
        "    quotient = num1 // num2       # Integer division\n",
        "    remainder = num1 % num2       # Remainder operation\n",
        "    print(f\"The result of this division is {quotient} with a remainder of {remainder}\")  # Fixed spelling and variables\n",
        "\n",
        "if __name__ == \"__main__\":\n",
        "    remainder()"
      ],
      "metadata": {
        "colab": {
          "base_uri": "https://localhost:8080/"
        },
        "id": "cpqj2QxNBPv2",
        "outputId": "b04da9e7-460c-48f8-ac60-1f255e44b579"
      },
      "execution_count": 18,
      "outputs": [
        {
          "output_type": "stream",
          "name": "stdout",
          "text": [
            "05_remainder_division\n",
            "Enter an integer to be divided: 3\n",
            "Enter an integer to divide by: 34\n",
            "The result of this division is 0 with a remainder of 3\n"
          ]
        }
      ]
    },
    {
      "cell_type": "code",
      "source": [
        "import random\n",
        "print(\"06_rolldice\")\n",
        "\n",
        "def dice():\n",
        "    die1 = random.randint(1, 6)  # First die roll (1-6)\n",
        "    die2 = random.randint(1, 6)  # Second die roll (1-6)\n",
        "    total = die1 + die2          # Sum of both dice\n",
        "    print(f\"First die: {die1}\")  # Using f-string for cleaner output\n",
        "    print(f\"Second die: {die2}\")\n",
        "    print(f\"Total of two dice: {total}\")  # \"die\" is singular, \"dice\" is plural\n",
        "\n",
        "if __name__ == \"__main__\":\n",
        "    dice()\n"
      ],
      "metadata": {
        "colab": {
          "base_uri": "https://localhost:8080/"
        },
        "id": "QJQTgIw_DAIi",
        "outputId": "89652270-37ed-4ac0-e58e-9afdac2bd197"
      },
      "execution_count": 23,
      "outputs": [
        {
          "output_type": "stream",
          "name": "stdout",
          "text": [
            "06_rolldice\n",
            "First die: 6\n",
            "Second die: 2\n",
            "Total of two dice: 8\n"
          ]
        }
      ]
    },
    {
      "cell_type": "code",
      "source": [
        "print(\"06_seconds_in_year\")\n",
        "\n",
        "days_in_year:int = 365\n",
        "hours_per_day:int = 24\n",
        "minutes_per_hour:int = 68\n",
        "second_per_minute:int = 60\n",
        "\n",
        "def seconds():\n",
        "  print(f\"There are {days_in_year * hours_per_day* minutes_per_hour * second_per_minute} second in a year!\")\n",
        "\n",
        "if __name__ == \"__main__\":\n",
        "  seconds()\n"
      ],
      "metadata": {
        "colab": {
          "base_uri": "https://localhost:8080/"
        },
        "id": "RCfBTOLHFtqj",
        "outputId": "a01b56e8-2cee-4e40-9823-149dc0ede9bc"
      },
      "execution_count": 25,
      "outputs": [
        {
          "output_type": "stream",
          "name": "stdout",
          "text": [
            "06_seconds_in_year\n",
            "There are 35740800 second in a year!\n"
          ]
        }
      ]
    },
    {
      "cell_type": "code",
      "source": [
        "print(\"07_tiny_mad_lib\")\n",
        "\n",
        "def mad_lib():\n",
        "    noun = input(\"Enter a noun: \")\n",
        "    adjective = input(\"Enter an adjective: \")\n",
        "    verb = input(\"Enter a verb: \")\n",
        "    print(f\"Do you {verb} your {adjective} {noun}?\")\n",
        "\n",
        "if __name__ == \"__main__\":\n",
        "    mad_lib()\n",
        ""
      ],
      "metadata": {
        "colab": {
          "base_uri": "https://localhost:8080/"
        },
        "id": "Jph8i0YsHzTT",
        "outputId": "83cb35e2-94b8-47c8-aaac-a4a329381605"
      },
      "execution_count": 27,
      "outputs": [
        {
          "output_type": "stream",
          "name": "stdout",
          "text": [
            "07_tiny_mad_lib\n",
            "Enter a noun: at\n",
            "Enter an adjective: cute\n",
            "Enter a verb: sleep\n",
            "Do you sleep your cute at?\n"
          ]
        }
      ]
    }
  ]
}
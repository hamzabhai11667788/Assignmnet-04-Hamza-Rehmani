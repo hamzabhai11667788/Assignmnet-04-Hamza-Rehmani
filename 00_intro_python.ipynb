{
  "nbformat": 4,
  "nbformat_minor": 0,
  "metadata": {
    "colab": {
      "provenance": [],
      "authorship_tag": "ABX9TyONkNQccNZbsAln6m+14dFz",
      "include_colab_link": true
    },
    "kernelspec": {
      "name": "python3",
      "display_name": "Python 3"
    },
    "language_info": {
      "name": "python"
    }
  },
  "cells": [
    {
      "cell_type": "markdown",
      "metadata": {
        "id": "view-in-github",
        "colab_type": "text"
      },
      "source": [
        "<a href=\"https://colab.research.google.com/github/hamzabhai11667788/Assignmnet-04-Hamza-Rehmani/blob/main/00_intro_python.ipynb\" target=\"_parent\"><img src=\"https://colab.research.google.com/assets/colab-badge.svg\" alt=\"Open In Colab\"/></a>"
      ]
    },
    {
      "cell_type": "code",
      "execution_count": 1,
      "metadata": {
        "colab": {
          "base_uri": "https://localhost:8080/"
        },
        "id": "7-ytUZuW77wd",
        "outputId": "2b82320a-d260-4a57-f562-e7aaec956ad9"
      },
      "outputs": [
        {
          "output_type": "stream",
          "name": "stdout",
          "text": [
            "01_add_two_numbers\n",
            "This application adds two numbers\n",
            "Enter your first number: 45\n",
            "Enter your second number: 55\n",
            "The total sum of 45 and 55 is 100\n"
          ]
        }
      ],
      "source": [
        "print(\"01_add_two_numbers\")\n",
        "\n",
        "def add():\n",
        "    print(\"This application adds two numbers\")\n",
        "    first_number = int(input(\"Enter your first number: \"))\n",
        "    second_number = int(input(\"Enter your second number: \"))\n",
        "    total = first_number + second_number\n",
        "    print(f\"The total sum of {first_number} and {second_number} is {total}\")\n",
        "\n",
        "if __name__ == \"__main__\":\n",
        "    add()"
      ]
    },
    {
      "cell_type": "code",
      "source": [
        "print(\"02_agreement_bot\")\n",
        "def bot():\n",
        "  animal = str(input(\"What is your favourite animal? \"))\n",
        "  print(f\"My favorite animal is also {animal}!\")\n",
        "\n",
        "if __name__ == \"__main__\":\n",
        "  bot()\n"
      ],
      "metadata": {
        "colab": {
          "base_uri": "https://localhost:8080/"
        },
        "id": "6BKtbdNg8M7D",
        "outputId": "14670fcb-4889-4786-9fef-a742ce6ea207"
      },
      "execution_count": 2,
      "outputs": [
        {
          "output_type": "stream",
          "name": "stdout",
          "text": [
            "02_agreement_bot\n",
            "What is your favourite animal? cat\n",
            "My favorite animal is also cat!\n"
          ]
        }
      ]
    },
    {
      "cell_type": "code",
      "source": [
        "print(\"03_fahrenheit_to_celsius\")\n",
        "\n",
        "def temp():\n",
        "    print(\"This code converts Fahrenheit to Celsius\")\n",
        "    fahrenheit_degree = float(input(\"Enter temperature in Fahrenheit: \"))\n",
        "    celsius_degree = (fahrenheit_degree - 32) * 5.0 / 9.0\n",
        "    print(f\"Temperature {fahrenheit_degree}°F = {celsius_degree:.2f}°C\")\n",
        "if __name__ == \"__main__\":\n",
        "    temp()"
      ],
      "metadata": {
        "colab": {
          "base_uri": "https://localhost:8080/"
        },
        "id": "_M6Ah7sV8X_B",
        "outputId": "fcbcac68-302d-49aa-dc97-6e44049da70b"
      },
      "execution_count": 6,
      "outputs": [
        {
          "output_type": "stream",
          "name": "stdout",
          "text": [
            "03_fahrenheit_to_celsius\n",
            "This code converts Fahrenheit to Celsius\n",
            "Enter temperature in Fahrenheit: 55\n",
            "Temperature 55.0°F = 12.78°C\n"
          ]
        }
      ]
    },
    {
      "cell_type": "code",
      "source": [
        "# Write a program to solve this age-related riddle!\n",
        "\n",
        "# Anton, Beth, Chen, Drew, and Ethan are all friends. Their ages are as follows:\n",
        "\n",
        "# Anton is 21 years old.\n",
        "\n",
        "# Beth is 6 years older than Anton.\n",
        "\n",
        "# Chen is 20 years older than Beth.\n",
        "\n",
        "# Drew is as old as Chen's age plus Anton's age.\n",
        "\n",
        "# Ethan is the same age as Chen.\n",
        "\n",
        "# Your code should store each person's age to a variable and print their names and ages at the end. The autograder is sensitive to capitalization and punctuation, be careful! Your solution should look like this (the below numbers are made up -- your solution should have the correct values!):\n",
        "\n",
        "print(\"04_how_old_are_they\")\n",
        "\n",
        "def add_age():\n",
        "    anthon: int = 21\n",
        "    beth: int = anthon + 6\n",
        "    chen: int = beth + 20\n",
        "    drew: int = chen + anthon\n",
        "    ethan: int = chen  # Corrected variable name (was 'ethon')\n",
        "\n",
        "    print(\"Anthon is \" + str(anthon))\n",
        "    print(\"Beth is \" + str(beth))\n",
        "    print(\"Chen is \" + str(chen))  # Fixed curly braces `{}` to parentheses `()`\n",
        "    print(\"Ethan is \" + str(ethan))  # Corrected name (was 'Ethen' and 'ethan')\n",
        "\n",
        "if __name__ == \"__main__\":\n",
        "    add_age()  # Corrected function name (was 'add_ages')"
      ],
      "metadata": {
        "colab": {
          "base_uri": "https://localhost:8080/"
        },
        "id": "NYGHyOIi9NX2",
        "outputId": "cc81da27-9542-429c-f1c9-bf1167199874"
      },
      "execution_count": 8,
      "outputs": [
        {
          "output_type": "stream",
          "name": "stdout",
          "text": [
            "04_how_old_are_they\n",
            "Anthon is 21\n",
            "Beth is 27\n",
            "Chen is 47\n",
            "Ethan is 47\n"
          ]
        }
      ]
    },
    {
      "cell_type": "code",
      "source": [
        "print(\"05_triangle_perimeter\")\n",
        "\n",
        "def triangle():\n",
        "    print(\"This code calculates the perimeter of a triangle\")\n",
        "    side1: float = float(input(\"Enter the first side of the triangle: \"))\n",
        "    side2: float = float(input(\"Enter the second side of the triangle: \"))  # Added missing '= float'\n",
        "    side3: float = float(input(\"Enter the third side of the triangle: \"))\n",
        "    perimeter: float = side1 + side2 + side3  # Corrected syntax (removed parentheses)\n",
        "    print(f\"The perimeter of triangle with sides {side1}, {side2}, and {side3} is {perimeter}\")  # Fixed output\n",
        "\n",
        "if __name__ == \"__main__\":\n",
        "    triangle()"
      ],
      "metadata": {
        "colab": {
          "base_uri": "https://localhost:8080/"
        },
        "id": "c5RRMtLoAAhq",
        "outputId": "86bc024f-4fdb-4efa-a2c5-ae25a9b0e284"
      },
      "execution_count": 13,
      "outputs": [
        {
          "output_type": "stream",
          "name": "stdout",
          "text": [
            "05_triangle_perimeter\n",
            "This code calculates the perimeter of a triangle\n",
            "Enter the first side of the triangle: 6.6\n",
            "Enter the second side of the triangle: 4\n",
            "Enter the third side of the triangle: 4\n",
            "The perimeter of triangle with sides 6.6, 4.0, and 4.0 is 14.6\n"
          ]
        }
      ]
    },
    {
      "cell_type": "code",
      "source": [
        "print(\"06_square_number\")\n",
        "\n",
        "def square():\n",
        "  print(\"The code is about square of given number\")\n",
        "  num1:int=int(input(\"Enter any number and i will given u a squrare value.\"))\n",
        "  print(f\"The square of {num1} is {num1**2}\")\n",
        "\n",
        "if __name__ == \"__main__\":\n",
        "  square()"
      ],
      "metadata": {
        "colab": {
          "base_uri": "https://localhost:8080/"
        },
        "id": "LR99t0hLDNK1",
        "outputId": "bb784131-2948-412d-c39b-4e8b57fa56e5"
      },
      "execution_count": 14,
      "outputs": [
        {
          "output_type": "stream",
          "name": "stdout",
          "text": [
            "06_square_number\n",
            "The code is about square of given number\n",
            "Enter any number and i will given u a squrare value.2\n",
            "The square of 2 is 4\n"
          ]
        }
      ]
    }
  ]
}
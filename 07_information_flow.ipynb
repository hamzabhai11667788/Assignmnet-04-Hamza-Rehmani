{
  "nbformat": 4,
  "nbformat_minor": 0,
  "metadata": {
    "colab": {
      "provenance": [],
      "authorship_tag": "ABX9TyOPdURQfZ5Kt9lFF18aq8qo",
      "include_colab_link": true
    },
    "kernelspec": {
      "name": "python3",
      "display_name": "Python 3"
    },
    "language_info": {
      "name": "python"
    }
  },
  "cells": [
    {
      "cell_type": "markdown",
      "metadata": {
        "id": "view-in-github",
        "colab_type": "text"
      },
      "source": [
        "<a href=\"https://colab.research.google.com/github/hamzabhai11667788/Assignmnet-04-Hamza-Rehmani/blob/main/07_information_flow.ipynb\" target=\"_parent\"><img src=\"https://colab.research.google.com/assets/colab-badge.svg\" alt=\"Open In Colab\"/></a>"
      ]
    },
    {
      "cell_type": "code",
      "execution_count": 2,
      "metadata": {
        "colab": {
          "base_uri": "https://localhost:8080/"
        },
        "id": "IqY-3oJ2EXWV",
        "outputId": "7fccab96-cfd3-4b6d-a5a3-b4eac37df109"
      },
      "outputs": [
        {
          "output_type": "stream",
          "name": "stdout",
          "text": [
            "00_choosing_returns\n",
            "How old is this person?: 35\n",
            "True\n"
          ]
        }
      ],
      "source": [
        "print(\"00_choosing_returns\")\n",
        "ADULT_AGE: int = 18  # U.S. age\n",
        "\n",
        "def is_adult(age: int) -> bool:\n",
        "    \"\"\"Determine if a person is an adult based on their age.\"\"\"\n",
        "    return age >= ADULT_AGE\n",
        "\n",
        "def main():\n",
        "    age: int = int(input(\"How old is this person?: \"))\n",
        "    print(is_adult(age))\n",
        "\n",
        "if __name__ == \"__main__\":\n",
        "    main()"
      ]
    },
    {
      "cell_type": "code",
      "source": [
        "print(\"01_greetings.\")\n",
        "def greet(name: str) -> str:\n",
        "    \"\"\"Return a greeting message with the given name.\"\"\"\n",
        "    return f\"Greetings {name}!\"\n",
        "\n",
        "def main():\n",
        "    name = input(\"What's your name? \")\n",
        "    print(greet(name))\n",
        "\n",
        "if __name__ == '__main__':\n",
        "    main()"
      ],
      "metadata": {
        "colab": {
          "base_uri": "https://localhost:8080/"
        },
        "id": "Nyt1du3BFC4I",
        "outputId": "bba9414a-64a3-4e52-fb02-a5e4ce8fb1ca"
      },
      "execution_count": 3,
      "outputs": [
        {
          "output_type": "stream",
          "name": "stdout",
          "text": [
            "01_greetings.\n",
            "What's your name? shophia\n",
            "Greetings shophia!\n"
          ]
        }
      ]
    },
    {
      "cell_type": "code",
      "source": [
        "print(\"02_in_range\")\n",
        "def in_range(n: int, low: int, high: int) -> bool:\n",
        "    \"\"\"\n",
        "    Returns True if n is between low and high, inclusive.\n",
        "    high is guaranteed to be greater than low.\n",
        "    \"\"\"\n",
        "    return low <= n <= high\n",
        "\n",
        "def main():\n",
        "    # Test cases\n",
        "    print(in_range(5, 1, 10))    # True\n",
        "    print(in_range(15, 1, 10))   # False\n",
        "    print(in_range(10, 1, 10))   # True (inclusive)\n",
        "    print(in_range(1, 1, 10))    # True (inclusive)\n",
        "    print(in_range(0, 1, 10))    # False\n",
        "\n",
        "if __name__ == '__main__':\n",
        "    main()"
      ],
      "metadata": {
        "colab": {
          "base_uri": "https://localhost:8080/"
        },
        "id": "su_Wt4FjFYzm",
        "outputId": "aef16e3e-7032-458b-89de-46b41a480e80"
      },
      "execution_count": 4,
      "outputs": [
        {
          "output_type": "stream",
          "name": "stdout",
          "text": [
            "02_in_range\n",
            "True\n",
            "False\n",
            "True\n",
            "True\n",
            "False\n"
          ]
        }
      ]
    },
    {
      "cell_type": "code",
      "source": [
        "print(\"03_in_stock\")\n",
        "def num_in_stock(fruit: str) -> int:\n",
        "    \"\"\"\n",
        "    Returns the number of specified fruit in Sophia's inventory.\n",
        "    \"\"\"\n",
        "    inventory = {\n",
        "        'apple': 2,\n",
        "        'durian': 4,\n",
        "        'pear': 1000\n",
        "    }\n",
        "    return inventory.get(fruit.lower(), 0)\n",
        "\n",
        "def main():\n",
        "    fruit = input(\"Enter a fruit: \")\n",
        "    stock = num_in_stock(fruit)\n",
        "    if stock > 0:\n",
        "        print(\"This fruit is in stock! Here is how many:\")\n",
        "        print(stock)\n",
        "    else:\n",
        "        print(\"This fruit is not in stock.\")\n",
        "\n",
        "if __name__ == '__main__':\n",
        "    main()"
      ],
      "metadata": {
        "colab": {
          "base_uri": "https://localhost:8080/"
        },
        "id": "tH9RsTVUFpf1",
        "outputId": "5fe19178-bea9-4287-8557-e339ccf46bf1"
      },
      "execution_count": 5,
      "outputs": [
        {
          "output_type": "stream",
          "name": "stdout",
          "text": [
            "03_in_stock\n",
            "Enter a fruit: pear\n",
            "This fruit is in stock! Here is how many:\n",
            "1000\n"
          ]
        }
      ]
    },
    {
      "cell_type": "code",
      "source": [
        "print(\"04_multiple_returns\")\n",
        "def get_user_data() -> tuple:\n",
        "    \"\"\"\n",
        "    Collects and returns user's first name, last name, and email address.\n",
        "    Returns them as a tuple in the order (first_name, last_name, email).\n",
        "    \"\"\"\n",
        "    first_name = input(\"What is your first name?: \")\n",
        "    last_name = input(\"What is your last name?: \")\n",
        "    email = input(\"What is your email address?: \")\n",
        "    return first_name, last_name, email\n",
        "\n",
        "def main():\n",
        "    user_data = get_user_data()\n",
        "    print(\"Received the following user data:\", user_data)\n",
        "\n",
        "if __name__ == \"__main__\":\n",
        "    main()"
      ],
      "metadata": {
        "colab": {
          "base_uri": "https://localhost:8080/"
        },
        "id": "Yekll5h3GB2v",
        "outputId": "63ddd951-7994-4a7e-8af9-bcf97a1fad3c"
      },
      "execution_count": 6,
      "outputs": [
        {
          "output_type": "stream",
          "name": "stdout",
          "text": [
            "04_multiple_returns\n",
            "What is your first name?: V\n",
            "What is your last name?: salma\n",
            "What is your email address?: hamza@gmail.com\n",
            "Received the following user data: ('V', 'salma', 'hamza@gmail.com')\n"
          ]
        }
      ]
    },
    {
      "cell_type": "code",
      "source": [
        "print(\"05_subtract_7\")\n",
        "def subtract_seven(num: int) -> int:\n",
        "    \"\"\"Subtracts 7 from the input number and returns the result.\"\"\"\n",
        "    return num - 7\n",
        "\n",
        "def main():\n",
        "    num = int(input(\"Enter a number: \"))\n",
        "    result = subtract_seven(num)\n",
        "    print(f\"{num} minus 7 equals: {result}\")\n",
        "\n",
        "if __name__ == '__main__':\n",
        "    main()"
      ],
      "metadata": {
        "colab": {
          "base_uri": "https://localhost:8080/"
        },
        "id": "ShGBrDF_Gka2",
        "outputId": "48293ac3-d96c-4cf0-9b80-746740855c21"
      },
      "execution_count": 7,
      "outputs": [
        {
          "output_type": "stream",
          "name": "stdout",
          "text": [
            "05_subtract_7\n",
            "Enter a number: 10\n",
            "10 minus 7 equals: 3\n"
          ]
        }
      ]
    }
  ]
}
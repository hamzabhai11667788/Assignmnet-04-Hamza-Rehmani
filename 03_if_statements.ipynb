{
  "nbformat": 4,
  "nbformat_minor": 0,
  "metadata": {
    "colab": {
      "provenance": [],
      "authorship_tag": "ABX9TyNsSb8cfsRqfc+cOzS1Y35f",
      "include_colab_link": true
    },
    "kernelspec": {
      "name": "python3",
      "display_name": "Python 3"
    },
    "language_info": {
      "name": "python"
    }
  },
  "cells": [
    {
      "cell_type": "markdown",
      "metadata": {
        "id": "view-in-github",
        "colab_type": "text"
      },
      "source": [
        "<a href=\"https://colab.research.google.com/github/hamzabhai11667788/Assignmnet-04-Hamza-Rehmani/blob/main/03_if_statements.ipynb\" target=\"_parent\"><img src=\"https://colab.research.google.com/assets/colab-badge.svg\" alt=\"Open In Colab\"/></a>"
      ]
    },
    {
      "cell_type": "code",
      "execution_count": 1,
      "metadata": {
        "colab": {
          "base_uri": "https://localhost:8080/"
        },
        "id": "RHljqRYoDPKh",
        "outputId": "6172ce7e-e167-4338-a154-c216d8bfec83"
      },
      "outputs": [
        {
          "output_type": "stream",
          "name": "stdout",
          "text": [
            "01_print_events\n",
            "First 20 even numbers:\n",
            "0\n",
            "2\n",
            "4\n",
            "6\n",
            "8\n",
            "10\n",
            "12\n",
            "14\n",
            "16\n",
            "18\n",
            "20\n",
            "22\n",
            "24\n",
            "26\n",
            "28\n",
            "30\n",
            "32\n",
            "34\n",
            "36\n",
            "38\n"
          ]
        }
      ],
      "source": [
        "print(\"01_print_events\")\n",
        "def main():\n",
        "    \"\"\"\n",
        "    Prints the first 20 even numbers starting from 0\n",
        "    \"\"\"\n",
        "    print(\"First 20 even numbers:\")\n",
        "    for i in range(20):\n",
        "        print(i * 2)  # Multiply each number by 2 to get even numbers\n",
        "\n",
        "if __name__ == \"__main__\":\n",
        "    main()"
      ]
    },
    {
      "cell_type": "code",
      "source": [
        "print(\"02_international_voting_age\")\n",
        "# Voting age constants for different countries\n",
        "PETURKSBOUIPO_AGE = 16  # Scotland, Ethiopia, Austria\n",
        "STANLAU_AGE = 25         # United Arab Emirates\n",
        "MAYENGUA_AGE = 48        # Fictional country\n",
        "\n",
        "def main():\n",
        "    \"\"\"Main function that checks voting eligibility across three countries\"\"\"\n",
        "\n",
        "    # Get user's age\n",
        "    try:\n",
        "        age = int(input(\"How old are you? \"))\n",
        "    except ValueError:\n",
        "        print(\"Please enter a valid number for age.\")\n",
        "        return\n",
        "\n",
        "    # Check eligibility for each country\n",
        "    check_voting(age, \"Peturksbouipo\", PETURKSBOUIPO_AGE)\n",
        "    check_voting(age, \"Stanlau\", STANLAU_AGE)\n",
        "    check_voting(age, \"Mayengua\", MAYENGUA_AGE)\n",
        "\n",
        "def check_voting(age, country, voting_age):\n",
        "    \"\"\"Helper function to check and print voting eligibility\"\"\"\n",
        "    if age >= voting_age:\n",
        "        print(f\"You can vote in {country} where the voting age is {voting_age}.\")\n",
        "    else:\n",
        "        print(f\"You cannot vote in {country} where the voting age is {voting_age}.\")\n",
        "\n",
        "if __name__ == '__main__':\n",
        "    main()"
      ],
      "metadata": {
        "colab": {
          "base_uri": "https://localhost:8080/"
        },
        "id": "_ceBtEupEET3",
        "outputId": "882ced7b-071b-413e-c615-6f595ecb7bca"
      },
      "execution_count": 2,
      "outputs": [
        {
          "output_type": "stream",
          "name": "stdout",
          "text": [
            "02_international_voting_age\n",
            "How old are you? 30\n",
            "You can vote in Peturksbouipo where the voting age is 16.\n",
            "You can vote in Stanlau where the voting age is 25.\n",
            "You cannot vote in Mayengua where the voting age is 48.\n"
          ]
        }
      ]
    },
    {
      "cell_type": "code",
      "source": [
        "print(\"03_leap_year\")\n",
        "def is_leap_year(year):\n",
        "    \"\"\"\n",
        "    Checks if a year is a leap year based on Gregorian calendar rules:\n",
        "    1. Divisible by 4\n",
        "    2. If divisible by 100, must also be divisible by 400\n",
        "    \"\"\"\n",
        "    if year % 4 != 0:\n",
        "        return False\n",
        "    elif year % 100 != 0:\n",
        "        return True\n",
        "    else:\n",
        "        return year % 400 == 0\n",
        "\n",
        "def main():\n",
        "    \"\"\"Main function to check leap year status\"\"\"\n",
        "    try:\n",
        "        year = int(input(\"Enter a year to check: \"))\n",
        "        if is_leap_year(year):\n",
        "            print(f\"{year} is a leap year!\")\n",
        "        else:\n",
        "            print(f\"{year} is not a leap year.\")\n",
        "    except ValueError:\n",
        "        print(\"Please enter a valid year (e.g., 2024)\")\n",
        "\n",
        "if __name__ == '__main__':\n",
        "    main()"
      ],
      "metadata": {
        "colab": {
          "base_uri": "https://localhost:8080/"
        },
        "id": "WTmfSZw_FJ2J",
        "outputId": "8c97ecb3-ab01-4676-b216-310d8ddd8680"
      },
      "execution_count": 3,
      "outputs": [
        {
          "output_type": "stream",
          "name": "stdout",
          "text": [
            "03_leap_year\n",
            "Enter a year to check: 2024\n",
            "2024 is a leap year!\n"
          ]
        }
      ]
    },
    {
      "cell_type": "code",
      "source": [
        "print(\"04_tall_enough_to_ride\")\n",
        "MINIMUM_HEIGHT = 50  # Minimum height requirement in centimeters\n",
        "\n",
        "def check_height():\n",
        "    \"\"\"Checks if user meets height requirement for rollercoaster\"\"\"\n",
        "    while True:\n",
        "        height_input = input(\"How tall are you? (in cm, press Enter to quit): \")\n",
        "\n",
        "        # Exit if user presses Enter without input\n",
        "        if height_input == \"\":\n",
        "            print(\"Thanks for visiting!\")\n",
        "            break\n",
        "\n",
        "        try:\n",
        "            height = float(height_input)\n",
        "            if height >= MINIMUM_HEIGHT:\n",
        "                print(\"You're tall enough to ride!\")\n",
        "            else:\n",
        "                print(\"You're not tall enough to ride, but maybe next year!\")\n",
        "        except ValueError:\n",
        "            print(\"Please enter a valid number for height.\")\n",
        "\n",
        "def main():\n",
        "    \"\"\"Main program function\"\"\"\n",
        "    print(\"Welcome to Python Park Rollercoaster!\")\n",
        "    print(f\"Minimum height requirement: {MINIMUM_HEIGHT}cm\")\n",
        "    check_height()\n",
        "\n",
        "if __name__ == '__main__':\n",
        "    main()"
      ],
      "metadata": {
        "colab": {
          "base_uri": "https://localhost:8080/"
        },
        "id": "2UVU_fCfFmHF",
        "outputId": "3e390599-dc12-4010-cde4-4c944efcc7c7"
      },
      "execution_count": 4,
      "outputs": [
        {
          "output_type": "stream",
          "name": "stdout",
          "text": [
            "04_tall_enough_to_ride\n",
            "Welcome to Python Park Rollercoaster!\n",
            "Minimum height requirement: 50cm\n",
            "How tall are you? (in cm, press Enter to quit): 120\n",
            "You're tall enough to ride!\n",
            "How tall are you? (in cm, press Enter to quit): 45\n",
            "You're not tall enough to ride, but maybe next year!\n",
            "How tall are you? (in cm, press Enter to quit): \n",
            "Thanks for visiting!\n"
          ]
        }
      ]
    },
    {
      "cell_type": "code",
      "source": [
        "print(\"05_random_numbers\")\n",
        "import random\n",
        "\n",
        "def main():\n",
        "    \"\"\"Prints 10 random numbers between 1 and 100\"\"\"\n",
        "    for _ in range(10):\n",
        "        print(random.randint(1, 100), end=' ')\n",
        "    print()  # Add a new line at the end\n",
        "\n",
        "if __name__ == '__main__':\n",
        "    main()"
      ],
      "metadata": {
        "colab": {
          "base_uri": "https://localhost:8080/"
        },
        "id": "4NWzLTgYGFpl",
        "outputId": "3b9f8fd5-285f-4ab4-ec13-851c0a5a55b3"
      },
      "execution_count": 5,
      "outputs": [
        {
          "output_type": "stream",
          "name": "stdout",
          "text": [
            "05_random_numbers\n",
            "19 90 64 50 29 24 7 77 73 87 \n"
          ]
        }
      ]
    }
  ]
}
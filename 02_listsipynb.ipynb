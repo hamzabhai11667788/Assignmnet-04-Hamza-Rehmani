{
  "nbformat": 4,
  "nbformat_minor": 0,
  "metadata": {
    "colab": {
      "provenance": [],
      "authorship_tag": "ABX9TyNGdnlzX8EoNsYHjK/cnVl5",
      "include_colab_link": true
    },
    "kernelspec": {
      "name": "python3",
      "display_name": "Python 3"
    },
    "language_info": {
      "name": "python"
    }
  },
  "cells": [
    {
      "cell_type": "markdown",
      "metadata": {
        "id": "view-in-github",
        "colab_type": "text"
      },
      "source": [
        "<a href=\"https://colab.research.google.com/github/hamzabhai11667788/Assignmnet-04-Hamza-Rehmani/blob/main/02_listsipynb.ipynb\" target=\"_parent\"><img src=\"https://colab.research.google.com/assets/colab-badge.svg\" alt=\"Open In Colab\"/></a>"
      ]
    },
    {
      "cell_type": "code",
      "execution_count": 1,
      "metadata": {
        "colab": {
          "base_uri": "https://localhost:8080/"
        },
        "id": "VMMTTDvx2hwt",
        "outputId": "7b2b4fee-41e9-43cd-9853-fe81a694f3e0"
      },
      "outputs": [
        {
          "output_type": "stream",
          "name": "stdout",
          "text": [
            "01_add_many_number\n",
            "15\n"
          ]
        }
      ],
      "source": [
        "print(\"01_add_many_number\")\n",
        "def add_many_numbers(numbers) -> int:\n",
        "    \"\"\"\n",
        "    Takes in a list of numbers and returns the sum of those numbers.\n",
        "\n",
        "    Args:\n",
        "        numbers: A list of numbers to be summed\n",
        "\n",
        "    Returns:\n",
        "        The sum of all numbers in the input list\n",
        "    \"\"\"\n",
        "    total_so_far: int = 0\n",
        "    for number in numbers:\n",
        "        total_so_far += number\n",
        "\n",
        "    return total_so_far\n",
        "\n",
        "\n",
        "def main():\n",
        "    numbers: list[int] = [1, 2, 3, 4, 5]  # Make a list of numbers\n",
        "    sum_of_numbers: int = add_many_numbers(numbers)  # Find the sum of the list\n",
        "    print(sum_of_numbers)  # Print out the sum above\n",
        "\n",
        "\n",
        "if __name__ == '__main__':\n",
        "    main()"
      ]
    },
    {
      "cell_type": "code",
      "source": [
        "print(\"02_double_list.md\")\n",
        "def main():\n",
        "    # Original list of numbers\n",
        "    numbers: list[int] = [1, 2, 3, 4]\n",
        "\n",
        "    # Double each element in the list\n",
        "    for i in range(len(numbers)):  # Loop through each index\n",
        "        numbers[i] = numbers[i] * 2  # Double the element at current index\n",
        "\n",
        "    # Print the modified list\n",
        "    print(numbers)\n",
        "\n",
        "\n",
        "if __name__ == '__main__':\n",
        "    main()"
      ],
      "metadata": {
        "colab": {
          "base_uri": "https://localhost:8080/"
        },
        "id": "AQ3GL5hy31Of",
        "outputId": "a638e074-5786-4c28-a781-7284c6431add"
      },
      "execution_count": 2,
      "outputs": [
        {
          "output_type": "stream",
          "name": "stdout",
          "text": [
            "02_double_list.md\n",
            "[2, 4, 6, 8]\n"
          ]
        }
      ]
    },
    {
      "cell_type": "code",
      "source": [
        "print(\"03_erase_canvas.md\")\n",
        "# पहले जरूरी libraries install करें\n",
        "!pip install matplotlib ipywidgets\n",
        "\n",
        "import numpy as np\n",
        "import matplotlib.pyplot as plt\n",
        "from matplotlib.patches import Rectangle\n",
        "from ipywidgets import interact, IntSlider\n",
        "from IPython.display import display\n",
        "import time\n",
        "\n",
        "# कैनवास सेटअप\n",
        "CANVAS_WIDTH = 400\n",
        "CANVAS_HEIGHT = 400\n",
        "CELL_SIZE = 40\n",
        "ERASER_SIZE = 20\n",
        "\n",
        "# ग्रिड बनाएं\n",
        "num_cols = CANVAS_WIDTH // CELL_SIZE\n",
        "num_rows = CANVAS_HEIGHT // CELL_SIZE\n",
        "\n",
        "# कैनवास बनाने के लिए फंक्शन\n",
        "def create_canvas():\n",
        "    fig, ax = plt.subplots(figsize=(6, 6))\n",
        "    ax.set_xlim(0, CANVAS_WIDTH)\n",
        "    ax.set_ylim(0, CANVAS_HEIGHT)\n",
        "    ax.set_xticks([])\n",
        "    ax.set_yticks([])\n",
        "    ax.set_facecolor('white')\n",
        "\n",
        "    # नीले बॉक्स बनाएं\n",
        "    for row in range(num_rows):\n",
        "        for col in range(num_cols):\n",
        "            rect = Rectangle((col*CELL_SIZE, row*CELL_SIZE),\n",
        "                            CELL_SIZE, CELL_SIZE,\n",
        "                            facecolor='blue', edgecolor='black')\n",
        "            ax.add_patch(rect)\n",
        "\n",
        "    return fig, ax\n",
        "\n",
        "# मुख्य प्रोग्राम\n",
        "fig, ax = create_canvas()\n",
        "plt.title(\"Google Colab Canvas Eraser\\n(Click and drag to erase)\")\n",
        "plt.show()\n",
        "\n",
        "# इरेज़र लॉजिक\n",
        "def on_move(event):\n",
        "    if event.inaxes != ax:\n",
        "        return\n",
        "\n",
        "    # इरेज़र एरिया\n",
        "    erase_x = event.xdata - ERASER_SIZE/2\n",
        "    erase_y = event.ydata - ERASER_SIZE/2\n",
        "    erase_area = Rectangle((erase_x, erase_y), ERASER_SIZE, ERASER_SIZE,\n",
        "                         facecolor='pink', alpha=0.5)\n",
        "    ax.add_patch(erase_area)\n",
        "\n",
        "    # जो बॉक्स इरेज़र के अंदर हैं, उन्हें सफेद करें\n",
        "    for patch in ax.patches:\n",
        "        if isinstance(patch, Rectangle) and patch.get_facecolor() == (0, 0, 1, 1):  # नीले बॉक्स\n",
        "            x, y = patch.get_xy()\n",
        "            if (erase_x < x < erase_x + ERASER_SIZE) and (erase_y < y < erase_y + ERASER_SIZE):\n",
        "                patch.set_facecolor('white')\n",
        "\n",
        "    fig.canvas.draw()\n",
        "    ax.patches.remove(erase_area)  # टेम्पररी इरेज़र हटाएं\n",
        "\n",
        "# माउस मूवमेंट डिटेक्ट करें\n",
        "fig.canvas.mpl_connect('motion_notify_event', on_move)\n",
        "plt.show()\n",
        ""
      ],
      "metadata": {
        "colab": {
          "base_uri": "https://localhost:8080/",
          "height": 1000
        },
        "id": "daTp9tnP4UqV",
        "outputId": "17d90bcd-d8ab-4f2b-8294-7d291c15246b"
      },
      "execution_count": 7,
      "outputs": [
        {
          "output_type": "stream",
          "name": "stdout",
          "text": [
            "03_erase_canvas.md\n",
            "Requirement already satisfied: matplotlib in /usr/local/lib/python3.11/dist-packages (3.10.0)\n",
            "Requirement already satisfied: ipywidgets in /usr/local/lib/python3.11/dist-packages (7.7.1)\n",
            "Requirement already satisfied: contourpy>=1.0.1 in /usr/local/lib/python3.11/dist-packages (from matplotlib) (1.3.1)\n",
            "Requirement already satisfied: cycler>=0.10 in /usr/local/lib/python3.11/dist-packages (from matplotlib) (0.12.1)\n",
            "Requirement already satisfied: fonttools>=4.22.0 in /usr/local/lib/python3.11/dist-packages (from matplotlib) (4.57.0)\n",
            "Requirement already satisfied: kiwisolver>=1.3.1 in /usr/local/lib/python3.11/dist-packages (from matplotlib) (1.4.8)\n",
            "Requirement already satisfied: numpy>=1.23 in /usr/local/lib/python3.11/dist-packages (from matplotlib) (2.0.2)\n",
            "Requirement already satisfied: packaging>=20.0 in /usr/local/lib/python3.11/dist-packages (from matplotlib) (24.2)\n",
            "Requirement already satisfied: pillow>=8 in /usr/local/lib/python3.11/dist-packages (from matplotlib) (11.1.0)\n",
            "Requirement already satisfied: pyparsing>=2.3.1 in /usr/local/lib/python3.11/dist-packages (from matplotlib) (3.2.3)\n",
            "Requirement already satisfied: python-dateutil>=2.7 in /usr/local/lib/python3.11/dist-packages (from matplotlib) (2.8.2)\n",
            "Requirement already satisfied: ipykernel>=4.5.1 in /usr/local/lib/python3.11/dist-packages (from ipywidgets) (6.17.1)\n",
            "Requirement already satisfied: ipython-genutils~=0.2.0 in /usr/local/lib/python3.11/dist-packages (from ipywidgets) (0.2.0)\n",
            "Requirement already satisfied: traitlets>=4.3.1 in /usr/local/lib/python3.11/dist-packages (from ipywidgets) (5.7.1)\n",
            "Requirement already satisfied: widgetsnbextension~=3.6.0 in /usr/local/lib/python3.11/dist-packages (from ipywidgets) (3.6.10)\n",
            "Requirement already satisfied: ipython>=4.0.0 in /usr/local/lib/python3.11/dist-packages (from ipywidgets) (7.34.0)\n",
            "Requirement already satisfied: jupyterlab-widgets>=1.0.0 in /usr/local/lib/python3.11/dist-packages (from ipywidgets) (3.0.13)\n",
            "Requirement already satisfied: debugpy>=1.0 in /usr/local/lib/python3.11/dist-packages (from ipykernel>=4.5.1->ipywidgets) (1.8.0)\n",
            "Requirement already satisfied: jupyter-client>=6.1.12 in /usr/local/lib/python3.11/dist-packages (from ipykernel>=4.5.1->ipywidgets) (6.1.12)\n",
            "Requirement already satisfied: matplotlib-inline>=0.1 in /usr/local/lib/python3.11/dist-packages (from ipykernel>=4.5.1->ipywidgets) (0.1.7)\n",
            "Requirement already satisfied: nest-asyncio in /usr/local/lib/python3.11/dist-packages (from ipykernel>=4.5.1->ipywidgets) (1.6.0)\n",
            "Requirement already satisfied: psutil in /usr/local/lib/python3.11/dist-packages (from ipykernel>=4.5.1->ipywidgets) (5.9.5)\n",
            "Requirement already satisfied: pyzmq>=17 in /usr/local/lib/python3.11/dist-packages (from ipykernel>=4.5.1->ipywidgets) (24.0.1)\n",
            "Requirement already satisfied: tornado>=6.1 in /usr/local/lib/python3.11/dist-packages (from ipykernel>=4.5.1->ipywidgets) (6.4.2)\n",
            "Requirement already satisfied: setuptools>=18.5 in /usr/local/lib/python3.11/dist-packages (from ipython>=4.0.0->ipywidgets) (75.2.0)\n",
            "Collecting jedi>=0.16 (from ipython>=4.0.0->ipywidgets)\n",
            "  Downloading jedi-0.19.2-py2.py3-none-any.whl.metadata (22 kB)\n",
            "Requirement already satisfied: decorator in /usr/local/lib/python3.11/dist-packages (from ipython>=4.0.0->ipywidgets) (4.4.2)\n",
            "Requirement already satisfied: pickleshare in /usr/local/lib/python3.11/dist-packages (from ipython>=4.0.0->ipywidgets) (0.7.5)\n",
            "Requirement already satisfied: prompt-toolkit!=3.0.0,!=3.0.1,<3.1.0,>=2.0.0 in /usr/local/lib/python3.11/dist-packages (from ipython>=4.0.0->ipywidgets) (3.0.50)\n",
            "Requirement already satisfied: pygments in /usr/local/lib/python3.11/dist-packages (from ipython>=4.0.0->ipywidgets) (2.18.0)\n",
            "Requirement already satisfied: backcall in /usr/local/lib/python3.11/dist-packages (from ipython>=4.0.0->ipywidgets) (0.2.0)\n",
            "Requirement already satisfied: pexpect>4.3 in /usr/local/lib/python3.11/dist-packages (from ipython>=4.0.0->ipywidgets) (4.9.0)\n",
            "Requirement already satisfied: six>=1.5 in /usr/local/lib/python3.11/dist-packages (from python-dateutil>=2.7->matplotlib) (1.17.0)\n",
            "Requirement already satisfied: notebook>=4.4.1 in /usr/local/lib/python3.11/dist-packages (from widgetsnbextension~=3.6.0->ipywidgets) (6.5.7)\n",
            "Requirement already satisfied: parso<0.9.0,>=0.8.4 in /usr/local/lib/python3.11/dist-packages (from jedi>=0.16->ipython>=4.0.0->ipywidgets) (0.8.4)\n",
            "Requirement already satisfied: jupyter-core>=4.6.0 in /usr/local/lib/python3.11/dist-packages (from jupyter-client>=6.1.12->ipykernel>=4.5.1->ipywidgets) (5.7.2)\n",
            "Requirement already satisfied: jinja2 in /usr/local/lib/python3.11/dist-packages (from notebook>=4.4.1->widgetsnbextension~=3.6.0->ipywidgets) (3.1.6)\n",
            "Requirement already satisfied: argon2-cffi in /usr/local/lib/python3.11/dist-packages (from notebook>=4.4.1->widgetsnbextension~=3.6.0->ipywidgets) (23.1.0)\n",
            "Requirement already satisfied: nbformat in /usr/local/lib/python3.11/dist-packages (from notebook>=4.4.1->widgetsnbextension~=3.6.0->ipywidgets) (5.10.4)\n",
            "Requirement already satisfied: nbconvert>=5 in /usr/local/lib/python3.11/dist-packages (from notebook>=4.4.1->widgetsnbextension~=3.6.0->ipywidgets) (7.16.6)\n",
            "Requirement already satisfied: Send2Trash>=1.8.0 in /usr/local/lib/python3.11/dist-packages (from notebook>=4.4.1->widgetsnbextension~=3.6.0->ipywidgets) (1.8.3)\n",
            "Requirement already satisfied: terminado>=0.8.3 in /usr/local/lib/python3.11/dist-packages (from notebook>=4.4.1->widgetsnbextension~=3.6.0->ipywidgets) (0.18.1)\n",
            "Requirement already satisfied: prometheus-client in /usr/local/lib/python3.11/dist-packages (from notebook>=4.4.1->widgetsnbextension~=3.6.0->ipywidgets) (0.21.1)\n",
            "Requirement already satisfied: nbclassic>=0.4.7 in /usr/local/lib/python3.11/dist-packages (from notebook>=4.4.1->widgetsnbextension~=3.6.0->ipywidgets) (1.2.0)\n",
            "Requirement already satisfied: ptyprocess>=0.5 in /usr/local/lib/python3.11/dist-packages (from pexpect>4.3->ipython>=4.0.0->ipywidgets) (0.7.0)\n",
            "Requirement already satisfied: wcwidth in /usr/local/lib/python3.11/dist-packages (from prompt-toolkit!=3.0.0,!=3.0.1,<3.1.0,>=2.0.0->ipython>=4.0.0->ipywidgets) (0.2.13)\n",
            "Requirement already satisfied: platformdirs>=2.5 in /usr/local/lib/python3.11/dist-packages (from jupyter-core>=4.6.0->jupyter-client>=6.1.12->ipykernel>=4.5.1->ipywidgets) (4.3.7)\n",
            "Requirement already satisfied: notebook-shim>=0.2.3 in /usr/local/lib/python3.11/dist-packages (from nbclassic>=0.4.7->notebook>=4.4.1->widgetsnbextension~=3.6.0->ipywidgets) (0.2.4)\n",
            "Requirement already satisfied: beautifulsoup4 in /usr/local/lib/python3.11/dist-packages (from nbconvert>=5->notebook>=4.4.1->widgetsnbextension~=3.6.0->ipywidgets) (4.13.3)\n",
            "Requirement already satisfied: bleach!=5.0.0 in /usr/local/lib/python3.11/dist-packages (from bleach[css]!=5.0.0->nbconvert>=5->notebook>=4.4.1->widgetsnbextension~=3.6.0->ipywidgets) (6.2.0)\n",
            "Requirement already satisfied: defusedxml in /usr/local/lib/python3.11/dist-packages (from nbconvert>=5->notebook>=4.4.1->widgetsnbextension~=3.6.0->ipywidgets) (0.7.1)\n",
            "Requirement already satisfied: jupyterlab-pygments in /usr/local/lib/python3.11/dist-packages (from nbconvert>=5->notebook>=4.4.1->widgetsnbextension~=3.6.0->ipywidgets) (0.3.0)\n",
            "Requirement already satisfied: markupsafe>=2.0 in /usr/local/lib/python3.11/dist-packages (from nbconvert>=5->notebook>=4.4.1->widgetsnbextension~=3.6.0->ipywidgets) (3.0.2)\n",
            "Requirement already satisfied: mistune<4,>=2.0.3 in /usr/local/lib/python3.11/dist-packages (from nbconvert>=5->notebook>=4.4.1->widgetsnbextension~=3.6.0->ipywidgets) (3.1.3)\n",
            "Requirement already satisfied: nbclient>=0.5.0 in /usr/local/lib/python3.11/dist-packages (from nbconvert>=5->notebook>=4.4.1->widgetsnbextension~=3.6.0->ipywidgets) (0.10.2)\n",
            "Requirement already satisfied: pandocfilters>=1.4.1 in /usr/local/lib/python3.11/dist-packages (from nbconvert>=5->notebook>=4.4.1->widgetsnbextension~=3.6.0->ipywidgets) (1.5.1)\n",
            "Requirement already satisfied: fastjsonschema>=2.15 in /usr/local/lib/python3.11/dist-packages (from nbformat->notebook>=4.4.1->widgetsnbextension~=3.6.0->ipywidgets) (2.21.1)\n",
            "Requirement already satisfied: jsonschema>=2.6 in /usr/local/lib/python3.11/dist-packages (from nbformat->notebook>=4.4.1->widgetsnbextension~=3.6.0->ipywidgets) (4.23.0)\n",
            "Requirement already satisfied: argon2-cffi-bindings in /usr/local/lib/python3.11/dist-packages (from argon2-cffi->notebook>=4.4.1->widgetsnbextension~=3.6.0->ipywidgets) (21.2.0)\n",
            "Requirement already satisfied: webencodings in /usr/local/lib/python3.11/dist-packages (from bleach!=5.0.0->bleach[css]!=5.0.0->nbconvert>=5->notebook>=4.4.1->widgetsnbextension~=3.6.0->ipywidgets) (0.5.1)\n",
            "Requirement already satisfied: tinycss2<1.5,>=1.1.0 in /usr/local/lib/python3.11/dist-packages (from bleach[css]!=5.0.0->nbconvert>=5->notebook>=4.4.1->widgetsnbextension~=3.6.0->ipywidgets) (1.4.0)\n",
            "Requirement already satisfied: attrs>=22.2.0 in /usr/local/lib/python3.11/dist-packages (from jsonschema>=2.6->nbformat->notebook>=4.4.1->widgetsnbextension~=3.6.0->ipywidgets) (25.3.0)\n",
            "Requirement already satisfied: jsonschema-specifications>=2023.03.6 in /usr/local/lib/python3.11/dist-packages (from jsonschema>=2.6->nbformat->notebook>=4.4.1->widgetsnbextension~=3.6.0->ipywidgets) (2024.10.1)\n",
            "Requirement already satisfied: referencing>=0.28.4 in /usr/local/lib/python3.11/dist-packages (from jsonschema>=2.6->nbformat->notebook>=4.4.1->widgetsnbextension~=3.6.0->ipywidgets) (0.36.2)\n",
            "Requirement already satisfied: rpds-py>=0.7.1 in /usr/local/lib/python3.11/dist-packages (from jsonschema>=2.6->nbformat->notebook>=4.4.1->widgetsnbextension~=3.6.0->ipywidgets) (0.24.0)\n",
            "Requirement already satisfied: jupyter-server<3,>=1.8 in /usr/local/lib/python3.11/dist-packages (from notebook-shim>=0.2.3->nbclassic>=0.4.7->notebook>=4.4.1->widgetsnbextension~=3.6.0->ipywidgets) (1.16.0)\n",
            "Requirement already satisfied: cffi>=1.0.1 in /usr/local/lib/python3.11/dist-packages (from argon2-cffi-bindings->argon2-cffi->notebook>=4.4.1->widgetsnbextension~=3.6.0->ipywidgets) (1.17.1)\n",
            "Requirement already satisfied: soupsieve>1.2 in /usr/local/lib/python3.11/dist-packages (from beautifulsoup4->nbconvert>=5->notebook>=4.4.1->widgetsnbextension~=3.6.0->ipywidgets) (2.6)\n",
            "Requirement already satisfied: typing-extensions>=4.0.0 in /usr/local/lib/python3.11/dist-packages (from beautifulsoup4->nbconvert>=5->notebook>=4.4.1->widgetsnbextension~=3.6.0->ipywidgets) (4.13.1)\n",
            "Requirement already satisfied: pycparser in /usr/local/lib/python3.11/dist-packages (from cffi>=1.0.1->argon2-cffi-bindings->argon2-cffi->notebook>=4.4.1->widgetsnbextension~=3.6.0->ipywidgets) (2.22)\n",
            "Requirement already satisfied: anyio>=3.1.0 in /usr/local/lib/python3.11/dist-packages (from jupyter-server<3,>=1.8->notebook-shim>=0.2.3->nbclassic>=0.4.7->notebook>=4.4.1->widgetsnbextension~=3.6.0->ipywidgets) (4.9.0)\n",
            "Requirement already satisfied: websocket-client in /usr/local/lib/python3.11/dist-packages (from jupyter-server<3,>=1.8->notebook-shim>=0.2.3->nbclassic>=0.4.7->notebook>=4.4.1->widgetsnbextension~=3.6.0->ipywidgets) (1.8.0)\n",
            "Requirement already satisfied: idna>=2.8 in /usr/local/lib/python3.11/dist-packages (from anyio>=3.1.0->jupyter-server<3,>=1.8->notebook-shim>=0.2.3->nbclassic>=0.4.7->notebook>=4.4.1->widgetsnbextension~=3.6.0->ipywidgets) (3.10)\n",
            "Requirement already satisfied: sniffio>=1.1 in /usr/local/lib/python3.11/dist-packages (from anyio>=3.1.0->jupyter-server<3,>=1.8->notebook-shim>=0.2.3->nbclassic>=0.4.7->notebook>=4.4.1->widgetsnbextension~=3.6.0->ipywidgets) (1.3.1)\n",
            "Downloading jedi-0.19.2-py2.py3-none-any.whl (1.6 MB)\n",
            "\u001b[2K   \u001b[90m━━━━━━━━━━━━━━━━━━━━━━━━━━━━━━━━━━━━━━━━\u001b[0m \u001b[32m1.6/1.6 MB\u001b[0m \u001b[31m25.6 MB/s\u001b[0m eta \u001b[36m0:00:00\u001b[0m\n",
            "\u001b[?25hInstalling collected packages: jedi\n",
            "Successfully installed jedi-0.19.2\n"
          ]
        },
        {
          "output_type": "display_data",
          "data": {
            "text/plain": [
              "<Figure size 600x600 with 1 Axes>"
            ],
            "image/png": "[encoded data removed]"
          },
          "metadata": {}
        }
      ]
    },
    {
      "cell_type": "code",
      "source": [
        "print(\"04_flowing_with_data_structures.md\")\n",
        "def add_three_copies(my_list, data):\n",
        "    \"\"\"Adds three copies of data to the list (mutable)\"\"\"\n",
        "    for _ in range(3):\n",
        "        my_list.append(data)\n",
        "\n",
        "def increment_number(num):\n",
        "    \"\"\"Attempts to modify a number (immutable)\"\"\"\n",
        "    num += 1\n",
        "    return num\n",
        "\n",
        "def main():\n",
        "    # ===== Mutable List Part =====\n",
        "    print(\"Mutable List Demonstration\")\n",
        "    message = input(\"Enter a message to copy: \")\n",
        "    words = []\n",
        "    print(\"List before:\", words)\n",
        "    add_three_copies(words, message)  # Original list gets modified\n",
        "    print(\"List after:\", words)\n",
        "\n",
        "    # ===== Immutable Number Comparison =====\n",
        "    print(\"\\nImmutable Number Comparison\")\n",
        "    value = 10\n",
        "    print(\"Number before:\", value)\n",
        "    increment_number(value)  # This change won't persist\n",
        "    print(\"Number after (no return):\", value)  # Still 10\n",
        "    value = increment_number(value)  # Must capture return value\n",
        "    print(\"Number after (with return):\", value)  # Now 11\n",
        "\n",
        "if __name__ == \"__main__\":\n",
        "    main()"
      ],
      "metadata": {
        "colab": {
          "base_uri": "https://localhost:8080/"
        },
        "id": "vIxvo2M87Nl_",
        "outputId": "d97cc8be-d83e-44b6-c90c-b71dea622384"
      },
      "execution_count": 8,
      "outputs": [
        {
          "output_type": "stream",
          "name": "stdout",
          "text": [
            "04_flowing_with_data_structures.md\n",
            "Mutable List Demonstration\n",
            "Enter a message to copy: Hello Pakistan!\n",
            "List before: []\n",
            "List after: ['Hello Pakistan!', 'Hello Pakistan!', 'Hello Pakistan!']\n",
            "\n",
            "Immutable Number Comparison\n",
            "Number before: 10\n",
            "Number after (no return): 10\n",
            "Number after (with return): 11\n"
          ]
        }
      ]
    },
    {
      "cell_type": "code",
      "source": [
        "print(\"05_get_first_elemen\")\n",
        "def get_first_element(lst):\n",
        "    \"\"\"\n",
        "    List ka pehla element print karta hai\n",
        "    \"\"\"\n",
        "    print(\"List ka pehla element hai:\", lst[0])\n",
        "\n",
        "def get_lst():\n",
        "    \"\"\"\n",
        "    User se list ke elements input leta hai\n",
        "    \"\"\"\n",
        "    lst = []\n",
        "    elem = input(\"List ka element daalen ya enter dabayein (khatam karne ke liye): \")\n",
        "    while elem != \"\":\n",
        "        lst.append(elem)\n",
        "        elem = input(\"Aur element daalen ya enter dabayein: \")\n",
        "    return lst\n",
        "\n",
        "def main():\n",
        "    \"\"\"\n",
        "    Main program jo list banata hai aur pehla element dikhata hai\n",
        "    \"\"\"\n",
        "    print(\"List banayein:\")\n",
        "    lst = get_lst()\n",
        "    get_first_element(lst)\n",
        "\n",
        "if __name__ == '__main__':\n",
        "    main()"
      ],
      "metadata": {
        "colab": {
          "base_uri": "https://localhost:8080/"
        },
        "id": "Ij7dXXiE_nKx",
        "outputId": "118a512d-31f2-4cec-d687-f9a1495fb4f2"
      },
      "execution_count": 9,
      "outputs": [
        {
          "output_type": "stream",
          "name": "stdout",
          "text": [
            "05_get_first_elemen\n",
            "List banayein:\n",
            "List ka element daalen ya enter dabayein (khatam karne ke liye): python\n",
            "Aur element daalen ya enter dabayein: java\n",
            "Aur element daalen ya enter dabayein: C++\n",
            "Aur element daalen ya enter dabayein: \n",
            "List ka pehla element hai: python\n"
          ]
        }
      ]
    },
    {
      "cell_type": "code",
      "source": [
        "print(\"06_get_last_element\")\n",
        "def get_last_element(lst):\n",
        "    \"\"\"\n",
        "    List ka last element print karta hai\n",
        "    \"\"\"\n",
        "    print(\"List ka last element hai:\", lst[-1])  # Negative index use karke\n",
        "\n",
        "def get_lst():\n",
        "    \"\"\"\n",
        "    User se list ke elements input leta hai\n",
        "    \"\"\"\n",
        "    lst = []\n",
        "    elem = input(\"List ka element daalen ya enter dabayein (khatam karne ke liye): \")\n",
        "    while elem != \"\":\n",
        "        lst.append(elem)\n",
        "        elem = input(\"Aur element daalen ya enter dabayein: \")\n",
        "    return lst\n",
        "\n",
        "def main():\n",
        "    \"\"\"\n",
        "    Main program jo list banata hai aur last element dikhata hai\n",
        "    \"\"\"\n",
        "    print(\"List banayein:\")\n",
        "    lst = get_lst()\n",
        "    get_last_element(lst)\n",
        "\n",
        "if __name__ == '__main__':\n",
        "    main()"
      ],
      "metadata": {
        "colab": {
          "base_uri": "https://localhost:8080/"
        },
        "id": "uD6pqPYZAwGg",
        "outputId": "88cad80f-2439-4322-f920-668b2d44a031"
      },
      "execution_count": 10,
      "outputs": [
        {
          "output_type": "stream",
          "name": "stdout",
          "text": [
            "06_get_last_element\n",
            "List banayein:\n",
            "List ka element daalen ya enter dabayein (khatam karne ke liye): Apple\n",
            "Aur element daalen ya enter dabayein: Banana\n",
            "Aur element daalen ya enter dabayein: orange\n",
            "Aur element daalen ya enter dabayein: \n",
            "List ka last element hai: orange\n"
          ]
        }
      ]
    },
    {
      "cell_type": "code",
      "source": [
        "print(\"07_get_list\")\n",
        "def main():\n",
        "    \"\"\"\n",
        "    Continuously takes user input to build a list,\n",
        "    then prints the final list when done\n",
        "    \"\"\"\n",
        "    items = []  # Start with empty list\n",
        "\n",
        "    # Get first input\n",
        "    user_input = input(\"Enter a value: \")\n",
        "\n",
        "    # Keep asking for input until user presses enter without typing\n",
        "    while user_input != \"\":\n",
        "        items.append(user_input)  # Add input to list\n",
        "        user_input = input(\"Enter a value: \")  # Get next input\n",
        "\n",
        "    # Print the final list\n",
        "    print(\"Here's the list:\", items)\n",
        "\n",
        "if __name__ == '__main__':\n",
        "    main()"
      ],
      "metadata": {
        "colab": {
          "base_uri": "https://localhost:8080/"
        },
        "id": "uji3mim2BM_M",
        "outputId": "60f517a5-5926-4a49-c81a-7de301dceb7d"
      },
      "execution_count": 11,
      "outputs": [
        {
          "output_type": "stream",
          "name": "stdout",
          "text": [
            "07_get_list\n",
            "Enter a value: Apple\n",
            "Enter a value: banana\n",
            "Enter a value: 123\n",
            "Enter a value: python\n",
            "Enter a value: \n",
            "Here's the list: ['Apple', 'banana', '123', 'python']\n"
          ]
        }
      ]
    },
    {
      "cell_type": "code",
      "source": [
        "print(\"08_shorten\")\n",
        "MAX_LENGTH = 3  # Maximum allowed list length\n",
        "\n",
        "def shorten(lst):\n",
        "    \"\"\"\n",
        "    List ko shorten karta hai aur removed elements print karta hai\n",
        "    Jab tak list ki length MAX_LENGTH se zyada hai:\n",
        "    1. Last element remove karo\n",
        "    2. Removed element print karo\n",
        "    \"\"\"\n",
        "    while len(lst) > MAX_LENGTH:\n",
        "        removed_item = lst.pop()  # Last element remove karo\n",
        "        print(f\"Removed: {removed_item}\")  # Removed element dikhao\n",
        "\n",
        "def get_lst():\n",
        "    \"\"\"\n",
        "    User se list ke elements input leta hai\n",
        "    \"\"\"\n",
        "    lst = []\n",
        "    elem = input(\"List ka element daalen ya enter dabayein (khatam karne ke liye): \")\n",
        "    while elem != \"\":\n",
        "        lst.append(elem)\n",
        "        elem = input(\"Aur element daalen ya enter dabayein: \")\n",
        "    return lst\n",
        "\n",
        "def main():\n",
        "    \"\"\"\n",
        "    Main program flow:\n",
        "    1. List banata hai\n",
        "    2. Shorten karta hai\n",
        "    3. Final list dikhata hai\n",
        "    \"\"\"\n",
        "    print(\"List banayein (kam se kam 4 elements daalen test ke liye):\")\n",
        "    lst = get_lst()\n",
        "    print(\"\\nOriginal list:\", lst)\n",
        "\n",
        "    print(\"\\nShortening process:\")\n",
        "    shorten(lst)\n",
        "\n",
        "    print(\"\\nFinal list (max 3 elements):\", lst)\n",
        "\n",
        "if __name__ == '__main__':\n",
        "    main()\n",
        ""
      ],
      "metadata": {
        "colab": {
          "base_uri": "https://localhost:8080/"
        },
        "id": "tt_E5qC2Br15",
        "outputId": "2f1d2466-dad7-4201-b679-0dbd73ca8458"
      },
      "execution_count": 12,
      "outputs": [
        {
          "output_type": "stream",
          "name": "stdout",
          "text": [
            "08_shorten\n",
            "List banayein (kam se kam 4 elements daalen test ke liye):\n",
            "List ka element daalen ya enter dabayein (khatam karne ke liye): a\n",
            "Aur element daalen ya enter dabayein: b\n",
            "Aur element daalen ya enter dabayein: c\n",
            "Aur element daalen ya enter dabayein: d\n",
            "Aur element daalen ya enter dabayein: \n",
            "\n",
            "Original list: ['a', 'b', 'c', 'd']\n",
            "\n",
            "Shortening process:\n",
            "Removed: d\n",
            "\n",
            "Final list (max 3 elements): ['a', 'b', 'c']\n"
          ]
        }
      ]
    }
  ]
}
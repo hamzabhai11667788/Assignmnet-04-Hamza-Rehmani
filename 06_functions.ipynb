{
  "nbformat": 4,
  "nbformat_minor": 0,
  "metadata": {
    "colab": {
      "provenance": [],
      "authorship_tag": "ABX9TyPZ4dRrrwqSQC7RY1ROoDQ6",
      "include_colab_link": true
    },
    "kernelspec": {
      "name": "python3",
      "display_name": "Python 3"
    },
    "language_info": {
      "name": "python"
    }
  },
  "cells": [
    {
      "cell_type": "markdown",
      "metadata": {
        "id": "view-in-github",
        "colab_type": "text"
      },
      "source": [
        "<a href=\"https://colab.research.google.com/github/hamzabhai11667788/Assignmnet-04-Hamza-Rehmani/blob/main/06_functions.ipynb\" target=\"_parent\"><img src=\"https://colab.research.google.com/assets/colab-badge.svg\" alt=\"Open In Colab\"/></a>"
      ]
    },
    {
      "cell_type": "code",
      "execution_count": 1,
      "metadata": {
        "colab": {
          "base_uri": "https://localhost:8080/"
        },
        "id": "ik2FdaPu-dj_",
        "outputId": "3ad69de3-f441-4927-c869-38b3df911ac8"
      },
      "outputs": [
        {
          "output_type": "stream",
          "name": "stdout",
          "text": [
            "00_averages.md\n",
            "avg_1: 5.0\n",
            "avg_2: 9.0\n",
            "final: 7.0\n"
          ]
        }
      ],
      "source": [
        "print(\"00_averages.md\")\n",
        "def average(a: float, b: float) -> float:\n",
        "    \"\"\"\n",
        "    Calculates the average of two numbers\n",
        "    Args:\n",
        "        a: First number\n",
        "        b: Second number\n",
        "    Returns:\n",
        "        The average of a and b\n",
        "    \"\"\"\n",
        "    return (a + b) / 2\n",
        "\n",
        "def main():\n",
        "    # Calculate some example averages\n",
        "    avg_1 = average(0, 10)\n",
        "    avg_2 = average(8, 10)\n",
        "\n",
        "    # Calculate average of averages\n",
        "    final = average(avg_1, avg_2)\n",
        "\n",
        "    # Print results\n",
        "    print(\"avg_1:\", avg_1)\n",
        "    print(\"avg_2:\", avg_2)\n",
        "    print(\"final:\", final)\n",
        "\n",
        "if __name__ == '__main__':\n",
        "    main()\n"
      ]
    },
    {
      "cell_type": "code",
      "source": [
        "print(\"01_chaotic_counting\")\n",
        "import random\n",
        "\n",
        "DONE_LIKELIHOOD = 0.3  # 30% chance to stop at each number\n",
        "\n",
        "def chaotic_counting():\n",
        "    for i in range(10):\n",
        "        curr_num = i + 1\n",
        "        if done():\n",
        "            return  # Exit the function early if done() returns True\n",
        "        print(curr_num, end=' ')\n",
        "\n",
        "def done():\n",
        "    \"\"\"Returns True with a probability of DONE_LIKELIHOOD\"\"\"\n",
        "    return random.random() < DONE_LIKELIHOOD\n",
        "\n",
        "def main():\n",
        "    print(\"I'm going to count until 10 or until I feel like stopping, whichever comes first.\")\n",
        "    chaotic_counting()\n",
        "    print(\"\\nI'm done\")\n",
        "\n",
        "if __name__ == \"__main__\":\n",
        "    main()"
      ],
      "metadata": {
        "colab": {
          "base_uri": "https://localhost:8080/"
        },
        "id": "4ZKYL6UG_Py2",
        "outputId": "8d09eda3-1fcf-4705-8ca6-d1e5560aa979"
      },
      "execution_count": 2,
      "outputs": [
        {
          "output_type": "stream",
          "name": "stdout",
          "text": [
            "01_chaotic_counting\n",
            "I'm going to count until 10 or until I feel like stopping, whichever comes first.\n",
            "1 \n",
            "I'm done\n"
          ]
        }
      ]
    },
    {
      "cell_type": "code",
      "source": [
        "print(\"02_count_even\")\n",
        "def count_even(lst):\n",
        "    \"\"\"\n",
        "    Counts and prints the number of even numbers in the list\n",
        "    Args:\n",
        "        lst: List of integers to check\n",
        "    \"\"\"\n",
        "    count = 0\n",
        "    for num in lst:\n",
        "        if num % 2 == 0:  # Check if number is even\n",
        "            count += 1\n",
        "    print(\"Number of even numbers:\", count)\n",
        "\n",
        "def get_list_of_ints():\n",
        "    \"\"\"\n",
        "    Collects integers from user until empty input\n",
        "    Returns:\n",
        "        List of integers entered by user\n",
        "    \"\"\"\n",
        "    lst = []\n",
        "    while True:\n",
        "        user_input = input(\"Enter an integer or press enter to stop: \")\n",
        "        if user_input == \"\":\n",
        "            break\n",
        "        try:\n",
        "            lst.append(int(user_input))\n",
        "        except ValueError:\n",
        "            print(\"Please enter a valid integer or press enter to stop\")\n",
        "    return lst\n",
        "\n",
        "def main():\n",
        "    print(\"Even Number Counter Program\")\n",
        "    numbers = get_list_of_ints()\n",
        "    count_even(numbers)\n",
        "\n",
        "if __name__ == '__main__':\n",
        "    main()"
      ],
      "metadata": {
        "id": "5AhcD7jXAFPW"
      },
      "execution_count": null,
      "outputs": []
    },
    {
      "cell_type": "code",
      "source": [
        "print(\"04_double\")\n",
        "def double(num: int) -> int:\n",
        "    \"\"\"\n",
        "    Doubles the input number\n",
        "    Args:\n",
        "        num: The number to double\n",
        "    Returns:\n",
        "        The input number multiplied by 2\n",
        "    \"\"\"\n",
        "    return num * 2\n",
        "\n",
        "def main():\n",
        "    # Get input from user\n",
        "    num = int(input(\"Enter a number: \"))\n",
        "\n",
        "    # Calculate doubled value\n",
        "    doubled = double(num)\n",
        "\n",
        "    # Print result\n",
        "    print(\"Double that is\", doubled)\n",
        "\n",
        "if __name__ == '__main__':\n",
        "    main()"
      ],
      "metadata": {
        "colab": {
          "base_uri": "https://localhost:8080/"
        },
        "id": "Jst4U2OmAHtC",
        "outputId": "461dfc25-2117-48bd-d306-b3cb1545e4fd"
      },
      "execution_count": 4,
      "outputs": [
        {
          "output_type": "stream",
          "name": "stdout",
          "text": [
            "04_double\n",
            "Enter a number: 2\n",
            "Double that is 4\n"
          ]
        }
      ]
    },
    {
      "cell_type": "code",
      "source": [
        "print(\"05_get_name\")\n",
        "def get_name():\n",
        "    \"\"\"\n",
        "    Returns the name to be used in the greeting\n",
        "    \"\"\"\n",
        "    return \"Sophia\"\n",
        "\n",
        "def main():\n",
        "    # Get the name from the function\n",
        "    name = get_name()\n",
        "\n",
        "    # Print the greeting with the name\n",
        "    print(\"Howdy\", name, \"! 🤠\")\n",
        "\n",
        "if __name__ == '__main__':\n",
        "    main()"
      ],
      "metadata": {
        "colab": {
          "base_uri": "https://localhost:8080/"
        },
        "id": "8H02YvAkAomx",
        "outputId": "cf0392d8-e5f0-4d98-fc6b-a5f2c80cca06"
      },
      "execution_count": 5,
      "outputs": [
        {
          "output_type": "stream",
          "name": "stdout",
          "text": [
            "05_get_name\n",
            "Howdy Sophia ! 🤠\n"
          ]
        }
      ]
    },
    {
      "cell_type": "code",
      "source": [
        "print(\"06_is_odd\")\n",
        "def is_odd(value: int) -> bool:\n",
        "    \"\"\"\n",
        "    Checks if a value is odd\n",
        "    Args:\n",
        "        value: The number to check\n",
        "    Returns:\n",
        "        True if odd, False if even\n",
        "    \"\"\"\n",
        "    return value % 2 == 1\n",
        "\n",
        "def main():\n",
        "    for num in range(10, 20):  # Numbers from 10 to 19\n",
        "        if is_odd(num):\n",
        "            print(f\"{num} odd\")\n",
        "        else:\n",
        "            print(f\"{num} even\")\n",
        "\n",
        "if __name__ == '__main__':\n",
        "    main()"
      ],
      "metadata": {
        "colab": {
          "base_uri": "https://localhost:8080/"
        },
        "id": "IcrfhVVEA60b",
        "outputId": "3d5bb2b0-ede1-4483-a3aa-3345e1a2dbb7"
      },
      "execution_count": 6,
      "outputs": [
        {
          "output_type": "stream",
          "name": "stdout",
          "text": [
            "06_is_odd\n",
            "10 even\n",
            "11 odd\n",
            "12 even\n",
            "13 odd\n",
            "14 even\n",
            "15 odd\n",
            "16 even\n",
            "17 odd\n",
            "18 even\n",
            "19 odd\n"
          ]
        }
      ]
    },
    {
      "cell_type": "code",
      "source": [
        "print(\"07_print_divisor\")\n",
        "def print_divisors(num: int):\n",
        "    print(f\"Here are the divisors of {num}\", end=\" \")\n",
        "    for i in range(1, num + 1):\n",
        "        if num % i == 0:\n",
        "            print(i, end=\" \")\n",
        "    print()  # Add a new line at the end\n",
        "\n",
        "def main():\n",
        "    num = int(input(\"Enter a number: \"))\n",
        "    print_divisors(num)\n",
        "\n",
        "\n",
        "if __name__ == '__main__':\n",
        "    main()"
      ],
      "metadata": {
        "colab": {
          "base_uri": "https://localhost:8080/"
        },
        "id": "ADLhNZjCBLdQ",
        "outputId": "2d302602-f758-4960-a4dc-06f645496307"
      },
      "execution_count": 7,
      "outputs": [
        {
          "output_type": "stream",
          "name": "stdout",
          "text": [
            "07_print_divisor\n",
            "Enter a number: 12\n",
            "Here are the divisors of 12 1 2 3 4 6 12 \n"
          ]
        }
      ]
    },
    {
      "cell_type": "code",
      "source": [
        "print(\"08_print_multiple\")\n",
        "def print_multiple(message: str, repeats: int):\n",
        "    for i in range(repeats):\n",
        "        print(message, end=\" \")\n",
        "    print()  # Add a new line after printing all messages\n",
        "\n",
        "def main():\n",
        "    message = input(\"Please type a message: \")\n",
        "    repeats = int(input(\"Enter a number of times to repeat your message: \"))\n",
        "    print_multiple(message, repeats)\n",
        "\n",
        "\n",
        "if __name__ == '__main__':\n",
        "    main()"
      ],
      "metadata": {
        "colab": {
          "base_uri": "https://localhost:8080/"
        },
        "id": "hZQlgh8zCJBG",
        "outputId": "cf403589-26a6-46d0-ff07-b312e7df7f5b"
      },
      "execution_count": 8,
      "outputs": [
        {
          "output_type": "stream",
          "name": "stdout",
          "text": [
            "08_print_multiple\n",
            "Please type a message: Hello!\n",
            "Enter a number of times to repeat your message: 6\n",
            "Hello! Hello! Hello! Hello! Hello! Hello! \n"
          ]
        }
      ]
    },
    {
      "cell_type": "code",
      "source": [
        "print(\"09_sentence_generator\")\n",
        "def make_sentence(word: str, part_of_speech: int):\n",
        "    if part_of_speech == 0:  # noun\n",
        "        print(f\"I am excited to add this {word} to my vast collection of them!\")\n",
        "    elif part_of_speech == 1:  # verb\n",
        "        print(f\"It's so nice outside today it makes me want to {word}!\")\n",
        "    elif part_of_speech == 2:  # adjective\n",
        "        print(f\"Looking out my window, the sky is big and {word}!\")\n",
        "    else:\n",
        "        print(\"Part of speech must be 0, 1, or 2! Can't make a sentence.\")\n",
        "\n",
        "def main():\n",
        "    word = input(\"Please type a noun, verb, or adjective: \")\n",
        "    print(\"Is this a noun, verb, or adjective?\")\n",
        "    part_of_speech = int(input(\"Type 0 for noun, 1 for verb, 2 for adjective: \"))\n",
        "    make_sentence(word, part_of_speech)\n",
        "\n",
        "if __name__ == '__main__':\n",
        "    main()"
      ],
      "metadata": {
        "colab": {
          "base_uri": "https://localhost:8080/"
        },
        "id": "PrAPBsSSCf78",
        "outputId": "14a0a416-377e-4315-8cd1-4d866784f1e4"
      },
      "execution_count": 9,
      "outputs": [
        {
          "output_type": "stream",
          "name": "stdout",
          "text": [
            "09_sentence_generator\n",
            "Please type a noun, verb, or adjective: book\n",
            "Is this a noun, verb, or adjective?\n",
            "Type 0 for noun, 1 for verb, 2 for adjective: 1\n",
            "It's so nice outside today it makes me want to book!\n"
          ]
        }
      ]
    },
    {
      "cell_type": "code",
      "source": [
        "print(\"10_print_ones_digit\")\n",
        "def print_ones_digit(num: int):\n",
        "    print(f\"The ones digit is {num % 10}\")\n",
        "\n",
        "def main():\n",
        "    num = int(input(\"Enter a number: \"))\n",
        "    print_ones_digit(num)\n",
        "\n",
        "\n",
        "if __name__ == '__main__':\n",
        "    main()"
      ],
      "metadata": {
        "colab": {
          "base_uri": "https://localhost:8080/"
        },
        "id": "WTsR4cnhDEDS",
        "outputId": "f82d4376-1262-4b74-d2a3-b44e083da15a"
      },
      "execution_count": 10,
      "outputs": [
        {
          "output_type": "stream",
          "name": "stdout",
          "text": [
            "10_print_ones_digit\n",
            "Enter a number: 42\n",
            "The ones digit is 2\n"
          ]
        }
      ]
    }
  ]
}